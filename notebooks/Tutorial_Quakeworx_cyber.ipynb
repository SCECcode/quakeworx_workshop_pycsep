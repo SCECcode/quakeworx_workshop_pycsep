{
 "cells": [
  {
   "cell_type": "markdown",
   "id": "8c1c3b96-08d6-4d34-b316-4c3355717c80",
   "metadata": {},
   "source": [
    "# PyCSEP cybertraining"
   ]
  },
  {
   "cell_type": "markdown",
   "id": "4eaf55c3-e0a0-4a34-a5f9-d5f7068d2b83",
   "metadata": {},
   "source": [
    "In this tutorial, we show how use the PyCSEP package to load and evaluate catalog-based forecasts generated using the UCERF3-ETAS model. The procedure is general and can be applied to any other forecasting model producing catalog-based forecasts in the same format. The aim of this tutorial is to illustrate how to produce maps of expected sesmic activity along with observations at different time scales, and to familiarise the user with computing and interpreting CSEP tests results. In doing this, we focus on the difference between grid-based forecasts and catalog-based forecasts, showing that the latter provides more information and more trustworthy results.\n",
    "\n",
    "Full documnetation of the package can be found [here](https://docs.cseptesting.org/), while any issue can be reported on the [PyCSEP Github page](https://github.com/SCECcode/pycsep)."
   ]
  },
  {
   "cell_type": "code",
   "execution_count": null,
   "id": "25afe19c-4ee2-4c63-ae06-8c9c0b0db130",
   "metadata": {},
   "outputs": [],
   "source": [
    "#import libraries\n",
    "import warnings\n",
    "import os\n",
    "import json\n",
    "import time\n",
    "import itertools\n",
    "import datetime\n",
    "import cartopy\n",
    "# Third-party Imports\n",
    "import numpy as np\n",
    "import pandas as pd\n",
    "import matplotlib.pyplot as plt\n",
    "from scipy import ndimage as nd\n",
    "import matplotlib.pyplot as pyplot\n",
    "# import PyCSEP\n",
    "import csep\n",
    "from csep.utils import datasets, time_utils, comcat, plots\n",
    "from csep.core import regions, catalog_evaluations"
   ]
  },
  {
   "cell_type": "markdown",
   "id": "1e678742-97cc-40f2-b328-063de0a65d55",
   "metadata": {},
   "source": [
    "## Load Forecast"
   ]
  },
  {
   "cell_type": "markdown",
   "id": "e06e053b-b33d-45ed-96f4-6700d66ebde4",
   "metadata": {},
   "source": [
    "In the following example, we show how to load a catalog-based forecast produced by the UCERF3-ETAS forecasts along with the corresponding observed earthquakes from the ComCat catalog. We focus on the El-Mayor Cucapah 7.2 $M_w$ earthquake occurred in Southern California on the 04, April 2010, and we consider the two forecasts corresponding to the day, and the day after the event.\n",
    "\n",
    "Before loading a forecast, we need to create a space-magnitude region of interest that will be used to filter all the catalogs composing a catalog-based forecast. This is done by specifying a magnitude grid by providing a minimum and maximum magnitudes, and the length of the magnitude bin, namely $\\texttt{min\\_mw}$, $\\texttt{max\\_mw}$, and $\\texttt{dmw}$, and a geographical region, $\\texttt{region}$, which is provided by the PyCSEP package. Then, we need to define a start and end time of the forecast, namely $\\texttt{start\\_time}$ and $\\texttt{start\\_time}$. Then, the forecasts can be loaded using the PyCSEP function $\\texttt{load\\_catalog\\_forecast}$.\n",
    "\n",
    "The function $\\texttt{load\\_catalog\\_forecast}$ takes (at least) the following arguments:\n",
    "\n",
    "* $\\texttt{fname}$: string indicating the file's path\n",
    "* $\\texttt{start\\_time}$: datetime.datetime object indicating the start time of the forecasts\n",
    "* $\\texttt{end\\_time}$: datetime.datetime object indicating the end time of the forecasts\n",
    "* $\\texttt{type}$: string indicating the type of forecast file \n",
    "* $\\texttt{region}$: csep.core.spatial.CartesianGrid2D object representing the space-magnitude region\n",
    "* $\\texttt{filter\\_spatial}$: boolean indicating whether catalogs should be filtered in space\n",
    "* $\\texttt{apply\\_filters}$: boolean indicating whether catalogs should be filtered using the input in filters\n",
    "* $\\texttt{fname}$: string indicating additional filters\n",
    "\n",
    "The function returns a csep.core.forecasts.CatalogForecast object. This is a flexible class provided by PyCSEP and useful to efficiently perform computations needed for plotting and evaluating the forecast. More details on the arguments of this function and the csep.core.forecasts.CatalogForecast class can be found [here](https://docs.cseptesting.org/reference/generated/csep.load_catalog_forecast.html)."
   ]
  },
  {
   "cell_type": "code",
   "execution_count": null,
   "id": "53dcbf90-453a-4c4a-abbe-97592e46a49e",
   "metadata": {},
   "outputs": [],
   "source": [
    "#####################\n",
    "### LOAD FORECAST ###\n",
    "#####################\n",
    "\n",
    "min_mw = 3.95 # minimum magnitude\n",
    "max_mw = 8.95 # max magnitude after which is just one bin\n",
    "dmw = 0.1 # bin width\n",
    "\n",
    "# Create space and magnitude regions. The forecast is already filtered in space and magnitude\n",
    "magnitudes = regions.magnitude_bins(min_mw, max_mw, dmw)\n",
    "region = regions.california_relm_region()\n",
    "\n",
    "# Combine space and magnitude regions\n",
    "space_magnitude_region = regions.create_space_magnitude_region(region, magnitudes)\n",
    "\n",
    "\n",
    "# set start and end date\n",
    "start_time_event = time_utils.strptime_to_utc_datetime('2010-04-04 00:00:00.0')\n",
    "end_time_event = time_utils.strptime_to_utc_datetime('2010-04-04 23:59:59.0')\n",
    "#load forecast\n",
    "forecast_day_event = csep.load_catalog_forecast(fname = 'forecasts/forecast_04_04_2010.bin',\n",
    "                                                 start_time = start_time_event,\n",
    "                                                 end_time = end_time_event,\n",
    "                                                 type='ucerf3',\n",
    "                                                 region = space_magnitude_region,\n",
    "                                                 filter_spatial = True,\n",
    "                                                 apply_filters = True,\n",
    "                                                 filters = 'magnitude >= 3.95')"
   ]
  },
  {
   "cell_type": "markdown",
   "id": "c1c84e5e-a55a-4c7e-bac4-4b33cb3a7af1",
   "metadata": {},
   "source": [
    "## Visualise a forecast\n",
    "To visualise the spatial distribution of a catalog-based forecast it is convenient to retrieve the average number of events per catalog for each cell of a pre-defined space-magnitude grid. The function $\\texttt{get\\_expected\\_rates}$ does just this and returns a $\\texttt{csep.core.forecasts.GriddedForecast}$ object. This is a class provided by PyCSEP to represent grid-based forecast, and contains a number of tools to analyse and access information on the average number of events per cell. "
   ]
  },
  {
   "cell_type": "code",
   "execution_count": null,
   "id": "1db2663b-2fc8-4c10-ab94-2c2f1e38fb2d",
   "metadata": {},
   "outputs": [],
   "source": [
    "#calculate expected rates per space-magnitude cell\n",
    "expected_rates_event = forecast_day_event.get_expected_rates(verbose=True) # 220-250 secs on standard laptop"
   ]
  },
  {
   "cell_type": "markdown",
   "id": "1b156add-bfec-4c0b-9eb0-2b5891c350d2",
   "metadata": {},
   "source": [
    "Once we have obtained the grid-based forecast associated with a catalog-based forecast, we can use PyCSEP functionalities to visualise it. In the code below, firstly, we set the plot options, we generate the figure, and we save it to pdf. We use the following plotting options:\n",
    "\n",
    "* $\\texttt{title}$: string representing the title of the figure.\n",
    "* $\\texttt{borders (coastlines)}$: boolean indicating whether the borders of the region (the coastlines) should be included.\n",
    "* $\\texttt{basemap}$: string representing the type of base map used as background, possible values are : stock_img, stamen_terrain, stamen_terrain-background, google-satellite, ESRI_terrain, ESRI_imagery, ESRI_relief, ESRI_topo, ESRI_terrain.\n",
    "* $\\texttt{projection}$: Projection to be used in the basemap.\n",
    "* $\\texttt{cmap}$: string indicating the color palette, typical options are: rainbow, plasma, inferno, viridis, seismic. For a complete list we refer to the [website](https://matplotlib.org/stable/users/explain/colors/colormaps.html).\n",
    "* $\\texttt{clim}$: list of two elements representing the extremes of the color scale.\n",
    "\n",
    "The full list of figure options can be found [here](https://docs.cseptesting.org/tutorials/plot_customizations.html)"
   ]
  },
  {
   "cell_type": "code",
   "execution_count": null,
   "id": "8e19cf58-7a48-4e1e-9ff9-aabf9db74302",
   "metadata": {},
   "outputs": [],
   "source": [
    "# arguments to plot the forecast\n",
    "args_forecast = {'title': 'El-Mayor Cucapah 04/04/2010 forecast', # title of the plot\n",
    "                 'borders': True, # adding borders of the region\n",
    "                 'coastline': True, # adding coastline\n",
    "                 'basemap': 'google-satellite', # type of background map\n",
    "                 'projection': cartopy.crs.Mercator(), # projection\n",
    "                 'cmap': 'seismic', # color palette\n",
    "                 'clim':[-9, 0]} # limits of the color scale\n",
    "# plot \n",
    "expected_rates_event.plot(plot_args=args_forecast)\n",
    "# save the plot to pdf \n",
    "plt.savefig('data/outputs/ElMayor_forecast_spatdistro.pdf')"
   ]
  },
  {
   "cell_type": "markdown",
   "id": "a998bba8-9046-43a6-997b-f27e92bedbc8",
   "metadata": {},
   "source": [
    "## Load and visualise observations\n",
    "PyCSEP also provides access to the [ComCat](https://earthquake.usgs.gov/data/comcat/) earthquake catalogue. To download the data relative to a time period it is sufficient to specify the start and end dates. We are interested in the catalog corresponding to the 04, April 2010, the day of the $7.2 M_w$ El-Mayor Cucapah earthquake. With the code below, we load and filter the data. The code returns a $\\texttt{csep.core.catalogs.CSEPCatalog()}$ object which is the standard class to represent catalogs adopted in PyCSEP providing easy access to different statistics and functionalities. For example, just by printing the catalog we can see that it contains 18 events with corresponding time, space, and magnitude ranges."
   ]
  },
  {
   "cell_type": "code",
   "execution_count": null,
   "id": "6f10c196-12a7-4a00-b3a9-08da5fe48573",
   "metadata": {},
   "outputs": [],
   "source": [
    "#########################\n",
    "### LOAD OBSERVATIONS ###\n",
    "#########################\n",
    "# retrieve events in ComCat catalogue between start and end date\n",
    "catalog = csep.query_comcat(start_time_event, end_time_event)\n",
    "# filter magnitude below 3.95\n",
    "catalog = catalog.filter('magnitude >= 3.95')\n",
    "# filter events outside spatial region\n",
    "catalog = catalog.filter_spatial(space_magnitude_region)\n",
    "# print summary information \n",
    "print(catalog)"
   ]
  },
  {
   "cell_type": "markdown",
   "id": "e7cd4f2f-86c4-4b57-8404-4b61d451e5cb",
   "metadata": {},
   "source": [
    "To visualise the catalog, similarly to the forecast, we can set different figure options. A full list of arguments can be found [here](https://docs.cseptesting.org/tutorials/plot_customizations.html)"
   ]
  },
  {
   "cell_type": "code",
   "execution_count": null,
   "id": "22578e8f-6988-4b23-bf85-025602c972ac",
   "metadata": {},
   "outputs": [],
   "source": [
    "# argumnets to plot a catalog\n",
    "args_catalog = {'basemap': 'ESRI_terrain',\n",
    "                'markercolor': 'red',\n",
    "                'markersize': 1,\n",
    "                'alpha':0.5}\n",
    "catalog.plot(plot_args=args_catalog)"
   ]
  },
  {
   "cell_type": "markdown",
   "id": "020a3998-a3fd-4d0f-9f95-4903f063d419",
   "metadata": {},
   "source": [
    "### Plot forecast and observations\n",
    "We can also superimpose the observations to the forecast plot obtained earlier. To do this, we need to create the forecast figure as before, and passing it as input for the catalog plot along with the others plotting arguments."
   ]
  },
  {
   "cell_type": "code",
   "execution_count": null,
   "id": "c480ca69-87d2-43f2-b760-c95d92ba10b7",
   "metadata": {},
   "outputs": [],
   "source": [
    "# superimpose points and forecast\n",
    "ax1 = expected_rates_event.plot(plot_args = args_forecast)\n",
    "args_catalog['markercolor'] = 'black' # change color of observations\n",
    "args_catalog['title'] = 'El-Mayor Cucapah 7.2 M, 04/04/2010' # set title\n",
    "ax2 = catalog.plot(ax=ax1, plot_args = args_catalog)"
   ]
  },
  {
   "cell_type": "markdown",
   "id": "0ce04b60-fe7e-44cc-87cc-200e08dfcfe0",
   "metadata": {},
   "source": [
    "## Visualise magnitude distribution\n",
    "The $\\texttt{csep.core.forecasts.GriddedForecast}$ format provide access to the average magnitude distribution provided by the forecast. For each magnitude cell, it provides the average number of events per synthetic catalog. We can access the average number of events per cell with $\\texttt{[forecast].magnitude\\_counts()}$ and the magnitude cells' centroids with $\\texttt{[forecast].magnitudes}$. In the same way, the $\\texttt{csep.core.catalogs.CSEPCatalog()}$ format provides access to the number of observed events per magnitude cell with the command $\\texttt{[catalog].magnitude\\_counts()}$. The magnitude grid is the same as we have used the same space-magnitude region to define both the forecast and the catalog.  "
   ]
  },
  {
   "cell_type": "code",
   "execution_count": null,
   "id": "5834017d-5d0d-438b-a2bc-9e4b8e46c014",
   "metadata": {},
   "outputs": [],
   "source": [
    "# access average number of synthetic events per catalog per magnitude cell\n",
    "print(expected_rates_event.magnitude_counts())\n",
    "# access number of observed events per magnitude cell\n",
    "print(catalog.magnitude_counts())\n",
    "# access cells' centroids\n",
    "print(expected_rates_event.magnitudes)"
   ]
  },
  {
   "cell_type": "markdown",
   "id": "b2885c07-a635-4202-9e60-6bb914a3ecd6",
   "metadata": {},
   "source": [
    "Having access to the expected and observed number of events per magnitude cell, we can visualise them as it is usually done for magnitude distributions. We can see in this case that the observed distribution is strongly influenced by the presence of the $7.2 M_w$ event, this is normal given we are analysing just one day of seismicity. The forecast presents the linear shape of a Gutenberg-Richter law with $b = 1$. The departure from the line at large magnitudes is due to the limited samples. "
   ]
  },
  {
   "cell_type": "code",
   "execution_count": null,
   "id": "b0fcd20f-c35a-4cf7-bf62-42e9eb8e57d8",
   "metadata": {},
   "outputs": [],
   "source": [
    "warnings.filterwarnings('ignore') \n",
    "# calculate nomralised rates per magnitude cell - forecast\n",
    "norm_forecast_mag_rates = expected_rates_event.magnitude_counts()/np.sum(expected_rates_event.magnitude_counts())\n",
    "# calculate logarithm - forecast\n",
    "log_norm_forecast_mag_rates = np.log10(norm_forecast_mag_rates)\n",
    "\n",
    "# calculate nomralised rates per magnitude cell - forecast\n",
    "norm_observed_mag_rates = catalog.magnitude_counts()/np.sum(catalog.magnitude_counts())\n",
    "# calculate logarithm - forecast\n",
    "log_norm_observed_mag_rates = np.log10(norm_observed_mag_rates)\n",
    "\n",
    "b_value = 1\n",
    "# plot\n",
    "plt.scatter(space_magnitude_region.magnitudes, log_norm_forecast_mag_rates, label = 'forecast - 04/04/2010', s = 4)\n",
    "plt.scatter(space_magnitude_region.magnitudes, log_norm_observed_mag_rates, label = 'observation - 04/04/2010', marker = 'x')\n",
    "plt.axline((space_magnitude_region.magnitudes[0],\n",
    "           log_norm_forecast_mag_rates[0]), slope= -b_value, label='GR b = 1', linewidth = 1, alpha = 0.75)\n",
    "plt.ylabel('log10 M3.95+ rate per cell')\n",
    "plt.xlabel('M')\n",
    "plt.legend(framealpha = 0.75)\n",
    "plt.show()"
   ]
  },
  {
   "cell_type": "markdown",
   "id": "ea57d6b0-0b09-49d4-a905-cf49a878aff3",
   "metadata": {},
   "source": [
    "## Evaluate a forecast with CSEP consistency tests\n",
    "The PyCSEP package provides access to a suite of statistical tests to evaluate various aspects of the forecast. In this tutorial, we show how to compute and interpret the N-test for the number of events and the S-test for the spatial distribution. For a full list of the available tests for catalog-based foercasts please visit the [website](https://docs.cseptesting.org/concepts/evaluations.html#module-csep.core.catalog_evaluations). \n",
    "\n",
    "All the CSEP tests for catalog-based forecasts are based on the same logic. A statistics is calculated for every synthetic catalog composing the forecast, this is the number of events for the N-test, while is a normalised approximated log-likelihood for the S-test (see [Savran et al. 2020](https://docs.cseptesting.org/reference/publications.html#savran-2020)). This produce a number (the value of the statistic) for each synthetic catalog, we refer to this set of values as the test distribution. This is because these values are used to estimate the distribution of the statistic under the model. For example, for the N-test, we use the number of events per catalog to estimate the distribution of the number of events under (provided by) the forecast. To conclude, the same statistic is calculated on the observed catalog and compared with the test distribution. \n",
    "\n",
    "We show how to perform the comparison between the test distribution and the observed statistic visually, by plotting them one against the other, and numerically, by calculating the fraction of synthetic catalogs with statistic greater or smaller then the observed one. We refer to this value as $\\delta$; values of $\\delta$ close to 0 or 1 are indicative of poor fit as the synthetic catalogs provide values of the statistic consistently smaller or greater than the observations.  "
   ]
  },
  {
   "cell_type": "markdown",
   "id": "a0d4add1-7888-4b03-9946-9fff22619168",
   "metadata": {},
   "source": [
    "### N-test\n",
    "We can run CSEP tests for catalog based forecasts with the command $\\texttt{catalog\\_evaluations.[test\\_name]}$. The code below is for the N-test which only requires a forecast and a catalog, respectively in the $\\texttt{csep.core.forecasts.GriddedForecast}$ and $\\texttt{csep.core.catalogs.CSEPCatalog()}$ format, to be computed. We notice that the forecast and the catalog have to be defined on the same space magnitude region for the function to work. The function $\\texttt{catalog\\_evaluations.number\\_test()}$ calculates the number of events for the synthetic and the observed catalogs and returns the results in the $\\texttt{csep.models.CatalogNumberTestResult}$ format, which is a format provided by PyCSEP to represent test results. "
   ]
  },
  {
   "cell_type": "code",
   "execution_count": null,
   "id": "54401f06-676a-462c-bdc9-43bb92d6765b",
   "metadata": {},
   "outputs": [],
   "source": [
    "number_test_result = catalog_evaluations.number_test(forecast_day_event, catalog) # 0.49332284927368164"
   ]
  },
  {
   "cell_type": "markdown",
   "id": "ffe5f3dc-74ce-4d09-89c4-c95ffce04921",
   "metadata": {},
   "source": [
    "Once we have computed the test result we can visualise them with the $\\texttt{[test\\_results].plot()}$ function which, as for catalogs and forecasts, can be customised with a list of arguments. In this case, the plot is degenerate as the distribution of the number of events is strongly clustered on the 0. The red bars represents regions outside the $95\\%$ of the test distribution, the value $95$ can be regulated by the user using the $\\texttt{percentile}$ argument. The vertical dotted line represents the observed statsitic which is 18 as the number of $3.95$+$M_w$ events occurred on 04, April 2010. This is way over the number of events expected by the model which is expected for the first day of the sequence."
   ]
  },
  {
   "cell_type": "code",
   "execution_count": null,
   "id": "e5f7d0bd-de56-4359-af76-7c177ea882a0",
   "metadata": {},
   "outputs": [],
   "source": [
    "args_n_test = {'title': 'N-test - 04/04/2010', \n",
    "           'bins':250,\n",
    "           'percentile':95}\n",
    "number_test_result.plot(plot_args = args_n_test)"
   ]
  },
  {
   "cell_type": "markdown",
   "id": "e207cfdf-053c-42be-84b9-dcf1abfa8fd3",
   "metadata": {},
   "source": [
    "We can access the test distribution directly with the command $\\texttt[test\\_result].test_distribution$, this may be useful to calculate summary statistics or to find interesting synthetic catalogs. In the example below, we see that more than $75\\%$ of the synthetic catalogs have zero events, and that the maximum number of events is 184. We can find and plot the synthetic catalog with the maximum number of events. The list of synethtic catalogs in $\\texttt{csep.core.catalogs.CSEPCatalog()}$ format can be accessed with the command $\\texttt{[forecast].catalogs}$. We can see that the synthetic catalog has 184 events with maximum magnitude around $7.7$, the figure shows that the synthetic catalog is strongly clustered around the faults which highlights the spatial features of the UCERF3-ETAS model. "
   ]
  },
  {
   "cell_type": "code",
   "execution_count": null,
   "id": "f12f27a5-2f60-480e-887f-bd1735b1b4cb",
   "metadata": {},
   "outputs": [],
   "source": [
    "# extract test distribution\n",
    "test_distro = pd.Series(number_test_result.test_distribution)\n",
    "# print summary statistics\n",
    "test_distro.describe()"
   ]
  },
  {
   "cell_type": "code",
   "execution_count": null,
   "id": "89421729-0441-4c4b-8371-2cddc60fea57",
   "metadata": {},
   "outputs": [],
   "source": [
    "# find catalog with maximum number of events\n",
    "catalog_max_n = forecast_day_event.catalogs[test_distro.idxmax()]\n",
    "# print summary informations\n",
    "print(catalog_max_n)\n",
    "\n",
    "# create plot title\n",
    "plot_title = 'Synthetic catalog with ' + format(np.max(test_distro)) + ' M3.95+ events - 04/04/2010'\n",
    "\n",
    "# plot arguments\n",
    "args_catalog_2 = {'title': plot_title,\n",
    "                'basemap': 'ESRI_terrain',\n",
    "                'markercolor': 'red',\n",
    "                'markersize': 1,\n",
    "                'alpha':0.5}\n",
    "#visualise synthetic catalog \n",
    "catalog_max_n.plot(plot_args = args_catalog_2)"
   ]
  },
  {
   "cell_type": "markdown",
   "id": "91bb9c59-04ae-4fac-892d-8dff90e8ee64",
   "metadata": {},
   "source": [
    "### S-test\n",
    "\n",
    "To code to run the S-test is similar to the one used for the N-test. In this case, the results indicate that the model produce catalogs with test statistics similar to the observed catalog. The probability that a synthetic catalog has a statistic lower than the observed one is $0.7$, however we can see that this value is strongly influenced by the spike around -10. The strange shape of the distribution is mostly due to the fact that more than $75\\%$ of the synthetic catalogs have zero events and provide no information on the spatial distribution. We will explain how to interpret S-test results in the next example."
   ]
  },
  {
   "cell_type": "code",
   "execution_count": null,
   "id": "2e900e0b-a3ef-42d8-a9bd-ed70111c3454",
   "metadata": {},
   "outputs": [],
   "source": [
    "# compute S-test\n",
    "s_test_result = catalog_evaluations.spatial_test(forecast_day_event, catalog, verbose = False)\n",
    "args_s_test = {'title': 'S-test - 04/04/2010', \n",
    "           'bins':25,\n",
    "           'percentile':95}\n",
    "s_test_result.plot(plot_args = args_s_test)"
   ]
  },
  {
   "cell_type": "markdown",
   "id": "e8ff8215-5586-42bd-b463-ee6ec33257e3",
   "metadata": {},
   "source": [
    "# Forecast for the day after El-Mayor Cucapah\n",
    "Below we repeat the analysis for the day after El-Mayor Cucapah $7.2$ $M_w$ earthquake, namely the 5, April 2010. This day is interesting because has more events (30 3.95+ $M_w$) compared to the 04/04/2010 which provides a useful scenario to interpret the CSEP test results more closely. Also, the forecast now takes into account that a large event just occurred and we can see the different parts of the UCERF3-ETAS model that are activated. We start by plotting the spatial and magnitude distribution of the forecast. The most interesting of the two is the magnitude distribution which is clearly different from the one provided by the forecast for the day before. This is because UCERF3-ETAS incorporates hypothesis on the recurrence of large events, and the probability of large magnitude events is reduced after one. "
   ]
  },
  {
   "cell_type": "code",
   "execution_count": null,
   "id": "23ba9182-7136-4217-9fa0-fd20e45305fa",
   "metadata": {},
   "outputs": [],
   "source": [
    "# set start and end date\n",
    "start_time_after = time_utils.strptime_to_utc_datetime('2010-04-05 00:00:00.0')\n",
    "end_time_after = time_utils.strptime_to_utc_datetime('2010-04-05 23:59:59.0')\n",
    "#load forecast\n",
    "forecast_day_after = csep.load_catalog_forecast(fname = 'forecasts/forecast_05_04_2010.bin', #file path\n",
    "                                                start_time = start_time_after, # starting time\n",
    "                                                end_time = end_time_after, # end time\n",
    "                                                type='ucerf3', # type of forecast \n",
    "                                                region = space_magnitude_region, # space magnitude region\n",
    "                                                filter_spatial = True, # boolean indicating if filtering in space is performed\n",
    "                                                apply_filters = True, # boolean indicating other filtering is performed\n",
    "                                                filters = 'magnitude >= 3.95') # additional filters\n",
    "\n",
    "# retrieve events in ComCat catalogue between start and end date\n",
    "catalog_after = csep.query_comcat(start_time_after, end_time_after)\n",
    "# filter magnitude below 3.95\n",
    "catalog_after = catalog_after.filter('magnitude >= 3.95')\n",
    "# filter events outside spatial region\n",
    "catalog_after = catalog_after.filter_spatial(space_magnitude_region)"
   ]
  },
  {
   "cell_type": "code",
   "execution_count": null,
   "id": "b194fc94-c88a-44f0-a0a5-f9b4522afd0b",
   "metadata": {},
   "outputs": [],
   "source": [
    "expected_rates_after = forecast_day_after.get_expected_rates(verbose=False) \n",
    "ax1 = expected_rates_after.plot(plot_args = args_forecast)\n",
    "args_catalog['title'] = 'El-Mayor Cucapah, 05/04/2010 forecast'\n",
    "catalog_after.plot(ax = ax1, plot_args = args_catalog)"
   ]
  },
  {
   "cell_type": "code",
   "execution_count": null,
   "id": "9a2c220e-284a-4b33-a218-1e6b106c36af",
   "metadata": {},
   "outputs": [],
   "source": [
    "# magnitude distributions\n",
    "# calculate log normalised rates per magnitude cell provided by the forecast\n",
    "norm_forecast_mag_rates_after = expected_rates_after.magnitude_counts()/np.sum(expected_rates_after.magnitude_counts())\n",
    "log_norm_forecast_mag_rates_after = np.log10(norm_forecast_mag_rates_after)\n",
    "\n",
    "# calculate log normalised rates per magnitude cell provided by the catalog\n",
    "norm_observed_mag_rates_after = catalog_after.magnitude_counts()/np.sum(catalog_after.magnitude_counts())\n",
    "log_norm_observed_mag_rates_after = np.log10(norm_observed_mag_rates_after)\n",
    "\n",
    "\n",
    "# plot\n",
    "plt.scatter(space_magnitude_region.magnitudes, log_norm_forecast_mag_rates, label = 'forecast - 04/04/24', s = 4)\n",
    "plt.axline((space_magnitude_region.magnitudes[0], log_norm_forecast_mag_rates_after[0]), \n",
    "           slope = -b_value, label = 'GR b = 1', linewidth = 1, alpha = 0.75)\n",
    "plt.scatter(space_magnitude_region.magnitudes, log_norm_forecast_mag_rates_after, label = 'forecast - 05/04/24', s = 4)\n",
    "plt.scatter(space_magnitude_region.magnitudes, log_norm_observed_mag_rates_after, label = 'observation - 05/04/24', marker = 'x')\n",
    "plt.ylabel('log10 M3.95+ rate per cell')\n",
    "plt.xlabel('M')\n",
    "plt.legend(framealpha = 0.75)\n",
    "plt.legend()\n",
    "plt.show()\n"
   ]
  },
  {
   "cell_type": "markdown",
   "id": "23382da0-61a1-4b2b-bada-70e6bdad80ad",
   "metadata": {},
   "source": [
    "## CSEP consistency tests\n",
    "We run the N- and S-test also for this forecast. We see that the test distributions in both cases are more regular than before. This is due to the fact that we have less synthetic catalogs with no observations. \n",
    "\n",
    "### N-test\n",
    "Looking at the N-test distribution we see that less than the $25\\%$ of the synthetic catalogs are empty while before it was over $75\\%$. Looking at the synthetic catalog with the most number of events, we see that differently from before the events are not clustered along the faults but rather in a cloud shape. The difference is due to the different parts of the UCERF3-ETAS which are activated. In the case of the 4 April, 2010 the points are strongly clustered around the faults because the background part of the model is active given that there were no large events before. Contrarily, in the case of the 5 April, 2010 the aftershock part of the model is active which does not account for faults. "
   ]
  },
  {
   "cell_type": "code",
   "execution_count": null,
   "id": "4887d4fe-5461-44c7-ad86-614ee0087037",
   "metadata": {},
   "outputs": [],
   "source": [
    "number_test_result_after = csep.catalog_evaluations.number_test(forecast_day_after, catalog_after, verbose = False)\n",
    "number_test_result_after.plot()"
   ]
  },
  {
   "cell_type": "code",
   "execution_count": null,
   "id": "42b0e26c-0fa0-49c1-ac03-3bfdd684b3d5",
   "metadata": {},
   "outputs": [],
   "source": [
    "n_test_distribution_after = pd.Series(number_test_result_after.test_distribution)\n",
    "print(n_test_distribution_after.describe())\n",
    "catalog_max_n_after = forecast_day_after.catalogs[n_test_distribution_after.idxmax()]\n",
    "args_catalog_2['title'] = 'Synthetic catalog with '+ format(np.max(n_test_distribution_after)) + ' M3.95+ events - 05/04/2010'\n",
    "print(catalog_max_n_after)\n",
    "catalog_max_n_after.plot(plot_args = args_catalog_2)"
   ]
  },
  {
   "cell_type": "markdown",
   "id": "25195a1c-f2db-4b60-a9ad-37955a0a1fc0",
   "metadata": {},
   "source": [
    "### S-test\n",
    "Also for the S-test, the test distribution is more regular than the previous case. In this case, we see that synthetic catalogs often have higher values of the S-test statistics than the observed one ($94\\%$ of the cases). This indicates that the synthetic catalogs are too clustered with respect the observations. This is because they present higher log-likelihoods, which means that they tend to be more clustered in the bright area of the map than the observations. If it was the opposite situation, the bulk of the test distribution is on the left side of the observed statistic, we would have the opposite situation, that the forecast is too smooth. Similarly, this is due to the fact that the observations tend to cluster more closely in a high likelihood region than the synthetic catalogs. "
   ]
  },
  {
   "cell_type": "code",
   "execution_count": null,
   "id": "c61346d2-3461-481b-ba65-976c2c140afc",
   "metadata": {},
   "outputs": [],
   "source": [
    "spatial_test_result_after = csep.catalog_evaluations.spatial_test(forecast_day_after, catalog_after, verbose = False)\n",
    "spatial_test_result_after.plot()"
   ]
  }
 ],
 "metadata": {
  "kernelspec": {
   "display_name": "Python 3 (ipykernel)",
   "language": "python",
   "name": "python3"
  },
  "language_info": {
   "codemirror_mode": {
    "name": "ipython",
    "version": 3
   },
   "file_extension": ".py",
   "mimetype": "text/x-python",
   "name": "python",
   "nbconvert_exporter": "python",
   "pygments_lexer": "ipython3",
   "version": "3.11.7"
  }
 },
 "nbformat": 4,
 "nbformat_minor": 5
}
